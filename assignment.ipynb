{
  "nbformat": 4,
  "nbformat_minor": 0,
  "metadata": {
    "colab": {
      "provenance": []
    },
    "kernelspec": {
      "name": "python3",
      "display_name": "Python 3"
    },
    "language_info": {
      "name": "python"
    }
  },
  "cells": [
    {
      "cell_type": "markdown",
      "source": [
        "# **ASSIGNMENT 1:**\n",
        "\n",
        "---\n",
        "\n",
        "\n",
        "1.   Define Programming Language.\n",
        "2.   Define Python.\n",
        "3.   Create a list of interpreter language and a list of compiler language.\n",
        "\n",
        "\n",
        "\n",
        "\n"
      ],
      "metadata": {
        "id": "2pBT3Exq6AaH"
      }
    },
    {
      "cell_type": "markdown",
      "source": [
        "# **Programming Language**\n",
        "\n",
        "*   It is defined as the language needed to communicate with the computers.\n",
        "*   Humans need the programming language which is understood by the computer to provide instructions.\n",
        "\n",
        "\n"
      ],
      "metadata": {
        "id": "6SqHmY3B8w1t"
      }
    },
    {
      "cell_type": "markdown",
      "source": [
        "# **Python**\n",
        "\n",
        "*   It is defined as an easy interpreter language which executes line by line.\n",
        "*   It has a advantage of being platform independent and typeless.\n",
        "*   It is used in AI, analysis,web applications, app development,etc.\n",
        "\n",
        "\n",
        "\n"
      ],
      "metadata": {
        "id": "ygEaHR6T96QO"
      }
    },
    {
      "cell_type": "code",
      "source": [
        "interpretedlang=[\"Python\",\"Java\",\"php\",\"Javascript\",\"perl\",\"Ruby\"]\n",
        "compiledlang=[\"C\",\"C++\",\"Erlang\",\"Haskell\",\"Rust\",\"Go\"]\n",
        "print(\"The list of interpreted languages are: \\n\",interpretedlang)\n",
        "print(\"The list of compiled languages are: \\n\",compiledlang)"
      ],
      "metadata": {
        "colab": {
          "base_uri": "https://localhost:8080/"
        },
        "id": "oGABvsVJBYjU",
        "outputId": "3f055287-13bf-4ae7-ca19-8738a4ed61a1"
      },
      "execution_count": null,
      "outputs": [
        {
          "output_type": "stream",
          "name": "stdout",
          "text": [
            "The list of interpreted languages are: \n",
            " ['Python', 'Java', 'php', 'Javascript', 'perl', 'Ruby']\n",
            "The list of compiled languages are: \n",
            " ['C', 'C++', 'Erlang', 'Haskell', 'Rust', 'Go']\n"
          ]
        }
      ]
    },
    {
      "cell_type": "markdown",
      "source": [
        "# **ASSIGNMENT 2:**\n",
        "1. Program to accept two integers and check whether they are equal or not.\n",
        "2. Program to check whether a given number is even or odd.\n",
        "3. Program to check whether a given number is positive or negative.\n",
        "4. Program to find whether a given year is a leap year or not.\n",
        "5. Program to read age of a candidate and determine whether it is eligible for casting his/her own vote.\n",
        "6. Program to find the eligibility of admission for a professional course based on the following criteria:\n",
        "Marks in Maths x`>=65\n",
        "Marks in Phy >=55\n",
        "Marks in Chem>=50\n",
        "Total in all three subject >=180\n",
        "or\n",
        "Total in Math and Subjects >=140\n",
        "(OR)\n",
        "Write a Python program that prints each item and its corresponding type from the following list.\n",
        "Sample List : datalist = [1452, 11.23, 1+2j, True, 'w3resource', (0, -1), [5, 12], {\"class\":'V', \"section\":'A'}]\n"
      ],
      "metadata": {
        "id": "jPS86zUHr3AF"
      }
    },
    {
      "cell_type": "code",
      "source": [
        "#1. Program to accept two integers and check whether they are equal or not.\n",
        "#getting first number from the user\n",
        "int1=int(input(\"Enter the first number: \"))\n",
        "#getting second number from the user\n",
        "int2=int(input(\"Enter the second number: \"))\n",
        "#using if conditional statement with comparision operator\n",
        "if(int1==int2):\n",
        "  print(\"They are equal\")\n",
        "\n",
        "print(\"End of the program\")"
      ],
      "metadata": {
        "colab": {
          "base_uri": "https://localhost:8080/"
        },
        "id": "amVGVnbaqSDD",
        "outputId": "86ff0839-c46f-4ec2-af6f-b81a73f2b560"
      },
      "execution_count": null,
      "outputs": [
        {
          "output_type": "stream",
          "name": "stdout",
          "text": [
            "Enter the first number: 3\n",
            "Enter the second number: 3\n",
            "They are equal\n",
            "End of the program\n"
          ]
        }
      ]
    },
    {
      "cell_type": "code",
      "source": [
        "#2.Program to check whether a given number is even or odd.\n",
        "num=int(input(\"Enter a Number: \"))\n",
        "if(num%2==0):\n",
        "  print(\"The number is even\")\n",
        "else:\n",
        "  print(\"The number is odd\")"
      ],
      "metadata": {
        "id": "4zqjapn7tO3Y",
        "colab": {
          "base_uri": "https://localhost:8080/"
        },
        "outputId": "199d4954-c9c1-4138-ab73-9172b3a40334"
      },
      "execution_count": null,
      "outputs": [
        {
          "output_type": "stream",
          "name": "stdout",
          "text": [
            "Enter a Number: 467\n",
            "The number is odd\n"
          ]
        }
      ]
    },
    {
      "cell_type": "code",
      "source": [
        "#3. Program to check whether a given number is positive or negative.\n",
        "number=int(input(\"Enter a Number: \"))\n",
        "if(number>0):\n",
        "  print(\"The number is positive\")\n",
        "elif(number==0):\n",
        "  print(\"The number is neither negative nor positive \")\n",
        "elif(number<0):\n",
        "  print(\"The number is negative\")"
      ],
      "metadata": {
        "colab": {
          "base_uri": "https://localhost:8080/"
        },
        "id": "frp_vsH9uol_",
        "outputId": "08e38612-7806-48d4-813f-1367ec3ea739"
      },
      "execution_count": null,
      "outputs": [
        {
          "output_type": "stream",
          "name": "stdout",
          "text": [
            "Enter a Number: 0\n",
            "The number is neither negative nor positive \n"
          ]
        }
      ]
    },
    {
      "cell_type": "code",
      "source": [
        "#4. Program to find whether a given year is a leap year or not.\n",
        "year=int(input(\"Enter a Year: \"))\n",
        "if(year%4==0):\n",
        "  if(year%100==0 and year%400==0):\n",
        "    print(\"The year is a leap year\")\n",
        "  elif(year%100==0 and year%400!=0):\n",
        "     print(\"The year is not a leap year\")\n",
        "  else:\n",
        "    print(\"This is a leap year\")\n",
        "else:\n",
        "   print(\"The year is not a leap year\")\n",
        "print(\"THE END\")"
      ],
      "metadata": {
        "colab": {
          "base_uri": "https://localhost:8080/"
        },
        "id": "yx7ysgdRwsT1",
        "outputId": "88458871-f308-48fd-cca2-6931d2ee3122"
      },
      "execution_count": null,
      "outputs": [
        {
          "output_type": "stream",
          "name": "stdout",
          "text": [
            "Enter a Year: 1999\n",
            "The year is not a leap year\n",
            "THE END\n"
          ]
        }
      ]
    },
    {
      "cell_type": "code",
      "source": [
        "#5.Program to read age of a candidate and determine whether it is eligible for casting his/her own vote.\n",
        "name=input(\"Enter the candidate name: \")\n",
        "age=int(input(\"Enter your age: \"))\n",
        "if(age>=18):\n",
        "  print(\"The candidate \",name,\" is eligible for voting\")\n",
        "else:\n",
        "  print(\"The candidate \",name,\" is not eligible for voting\")"
      ],
      "metadata": {
        "colab": {
          "base_uri": "https://localhost:8080/"
        },
        "id": "Sw7-PgyLDR03",
        "outputId": "0b5c65c3-8598-482b-e3a2-7e151e5bd2f2"
      },
      "execution_count": null,
      "outputs": [
        {
          "output_type": "stream",
          "name": "stdout",
          "text": [
            "Enter the candidate name: shaahin\n",
            "Enter your age: 19\n",
            "The candidate  shaahin  is eligible for voting\n"
          ]
        }
      ]
    },
    {
      "cell_type": "code",
      "source": [
        "#6. Program to find the eligibility of admission for a professional course based on the following criteria:\n",
        "#Marks in Maths x`>=65 Marks in Phy >=55 Marks in Chem>=50 Total in all three subject >=180 or Total in Math and Subjects >=140\n",
        "mathmark=input(\"Enter the maths mark : \")\n",
        "mathmark=input(\"Enter the maths mark : \")\n",
        "mathmark=input(\"Enter the maths mark : \")\n",
        "marks={\"maths\":mathmark}\n"
      ],
      "metadata": {
        "id": "usMEihP-Fi8o"
      },
      "execution_count": null,
      "outputs": []
    },
    {
      "cell_type": "code",
      "source": [
        "#Write a Python program that prints each item and its corresponding type from the following list.\n",
        "#Sample List : datalist = [1452, 11.23, 1+2j, True, 'w3resource', (0, -1), [5, 12], {\"class\":'V', \"section\":'A'}]\n",
        "datalist = [1452, 11.23, 1+2j, True, 'w3resource', (0, -1), [5, 12], {\"class\":'V', \"section\":'A'}]\n",
        "n=len(datalist)\n",
        "for i in range(0,n):\n",
        "  print(\"The value of the index \" ,i, \" is \" ,datalist[i])\n",
        "  print(\"The type of the index \" ,i, \" is \" ,type(datalist[i]),\"\\n\")\n"
      ],
      "metadata": {
        "colab": {
          "base_uri": "https://localhost:8080/"
        },
        "id": "eF_51_GGIaG7",
        "outputId": "9a57028d-f7b2-467b-dc0d-88d6e39fb4cd"
      },
      "execution_count": null,
      "outputs": [
        {
          "output_type": "stream",
          "name": "stdout",
          "text": [
            "The value of the index  0  is  1452\n",
            "The type of the index  0  is  <class 'int'> \n",
            "\n",
            "The value of the index  1  is  11.23\n",
            "The type of the index  1  is  <class 'float'> \n",
            "\n",
            "The value of the index  2  is  (1+2j)\n",
            "The type of the index  2  is  <class 'complex'> \n",
            "\n",
            "The value of the index  3  is  True\n",
            "The type of the index  3  is  <class 'bool'> \n",
            "\n",
            "The value of the index  4  is  w3resource\n",
            "The type of the index  4  is  <class 'str'> \n",
            "\n",
            "The value of the index  5  is  (0, -1)\n",
            "The type of the index  5  is  <class 'tuple'> \n",
            "\n",
            "The value of the index  6  is  [5, 12]\n",
            "The type of the index  6  is  <class 'list'> \n",
            "\n",
            "The value of the index  7  is  {'class': 'V', 'section': 'A'}\n",
            "The type of the index  7  is  <class 'dict'> \n",
            "\n"
          ]
        }
      ]
    },
    {
      "cell_type": "markdown",
      "source": [
        "# **ASSIGNMENT 3**\n",
        "\n",
        "\n",
        "1. Program to display the first 10 natural numbers using For Loop\n",
        "2. Program to find the sum of first 10 natural numbers using for Loop\n",
        "3. Program to read 10 numbers from keyboard and find their sum and average.\n",
        "4. Program to display the cube of the number upto given an integer.\n",
        "5. Program to display the multiplication table of a given integer.\n",
        "6. Program to display the multiplication table vertically from 1 to n.\n",
        "7. Program to display the n terms of odd natural number and their sum.\n",
        "\n"
      ],
      "metadata": {
        "id": "Txz_vivdLp7Q"
      }
    },
    {
      "cell_type": "code",
      "source": [
        "#1. Program to display the first 10 natural numbers using For Loop\n",
        "print(\"The First 10 Natural numbers :\")\n",
        "for i in range(1,11):\n",
        "  print(i)\n",
        "  i=i+1"
      ],
      "metadata": {
        "colab": {
          "base_uri": "https://localhost:8080/"
        },
        "id": "43mN8RCSOeL5",
        "outputId": "8cf04979-d4df-47cb-d5d9-747e9aac6802"
      },
      "execution_count": null,
      "outputs": [
        {
          "output_type": "stream",
          "name": "stdout",
          "text": [
            "The First 10 Natural numbers\n",
            "1\n",
            "2\n",
            "3\n",
            "4\n",
            "5\n",
            "6\n",
            "7\n",
            "8\n",
            "9\n",
            "10\n"
          ]
        }
      ]
    },
    {
      "cell_type": "code",
      "source": [
        "#2. Program to find the sum of first 10 natural numbers using for Loop\n",
        "sum=0\n",
        "for s in range(1,11):\n",
        "  sum=sum+s\n",
        "print(\"The sum of first 10 natural numbers: \",sum)\n"
      ],
      "metadata": {
        "colab": {
          "base_uri": "https://localhost:8080/"
        },
        "id": "mgB7gcuuP3rM",
        "outputId": "0ee030e5-60ff-4986-e61c-e994749c736c"
      },
      "execution_count": null,
      "outputs": [
        {
          "output_type": "stream",
          "name": "stdout",
          "text": [
            "The sum of first 10 natural numbers:  55\n"
          ]
        }
      ]
    },
    {
      "cell_type": "code",
      "source": [
        "#3. Program to read 10 numbers from keyboard and find their sum and average.\n",
        "sum=0\n",
        "count=0\n",
        "for x in range(0,10):\n",
        "  number=int(input(\"Enter the number :\"))\n",
        "  sum=sum+number\n",
        "  count=count+1\n",
        "avg=sum/count\n",
        "print(\"The sum of the given numbers are: \",sum)\n",
        "print(\"The average of given numbers are: \", avg)\n",
        "\n"
      ],
      "metadata": {
        "colab": {
          "base_uri": "https://localhost:8080/"
        },
        "id": "HC823xLwVQKH",
        "outputId": "f86d6443-86f2-4232-ac8a-c7252bb289a7"
      },
      "execution_count": null,
      "outputs": [
        {
          "output_type": "stream",
          "name": "stdout",
          "text": [
            "Enter the number :10\n",
            "Enter the number :10\n",
            "Enter the number :10\n",
            "Enter the number :0\n",
            "Enter the number :10\n",
            "Enter the number :10\n",
            "Enter the number :10\n",
            "Enter the number :10\n",
            "Enter the number :10\n",
            "Enter the number :10\n",
            "The sum of the given numbers are:  90\n",
            "The average of given numbers are:  9.0\n"
          ]
        }
      ]
    },
    {
      "cell_type": "code",
      "source": [
        "#4. Program to display the cube of the number upto given an integer.\n",
        "n=int(input(\"Enter the maximum limit number: \"))\n",
        "for q in range(1,n+1):\n",
        "  cube=q**3\n",
        "  print(\"The number is : \",q, \", The cube of \",q,\" is : \",cube)\n"
      ],
      "metadata": {
        "colab": {
          "base_uri": "https://localhost:8080/"
        },
        "id": "OuM7j30zVQMU",
        "outputId": "b93e1163-461f-4245-a33f-a6fa72c8cd81"
      },
      "execution_count": null,
      "outputs": [
        {
          "output_type": "stream",
          "name": "stdout",
          "text": [
            "Enter the maximum limit number: 6\n",
            "The number is :  1 , The cube of  1  is :  1\n",
            "The number is :  2 , The cube of  2  is :  8\n",
            "The number is :  3 , The cube of  3  is :  27\n",
            "The number is :  4 , The cube of  4  is :  64\n",
            "The number is :  5 , The cube of  5  is :  125\n",
            "The number is :  6 , The cube of  6  is :  216\n"
          ]
        }
      ]
    },
    {
      "cell_type": "code",
      "source": [
        "#5.Program to display the multiplication table of a given integer.\n",
        "number=int(input(\"Enter the number to generate the multiplication table: \"))\n",
        "for z in range(1,11):\n",
        "    mut=z*number\n",
        "    print(z,\" x \",number,\" = \",mut)"
      ],
      "metadata": {
        "colab": {
          "base_uri": "https://localhost:8080/"
        },
        "id": "9b80RxTyYSaT",
        "outputId": "01211cca-7be6-440d-e404-2aa866fc3d1b"
      },
      "execution_count": null,
      "outputs": [
        {
          "output_type": "stream",
          "name": "stdout",
          "text": [
            "Enter the number to generate the multiplication table: 4\n",
            "1  x  4  =  4\n",
            "2  x  4  =  8\n",
            "3  x  4  =  12\n",
            "4  x  4  =  16\n",
            "5  x  4  =  20\n",
            "6  x  4  =  24\n",
            "7  x  4  =  28\n",
            "8  x  4  =  32\n",
            "9  x  4  =  36\n",
            "10  x  4  =  40\n"
          ]
        }
      ]
    },
    {
      "cell_type": "code",
      "source": [
        "#6. Program to display the multiplication table vertically from 1 to n.\n",
        "n1=int(input(\"Enter upto which multiplication table: \"))\n",
        "i=1\n",
        "while(i<=n1):\n",
        " for z in range(1,11):\n",
        "  multip=z*i\n",
        "  if(z==10):\n",
        "    print(z,\" x \",i,\" = \",multip)\n",
        "  else:\n",
        "    print(z,\" x \",i,\" = \",multip,\"   \",end='')\n",
        " i=i+1\n",
        "\n"
      ],
      "metadata": {
        "colab": {
          "base_uri": "https://localhost:8080/"
        },
        "id": "V3o3Uc8hbwTQ",
        "outputId": "979df0aa-aca8-416f-9136-6241ae47fac9"
      },
      "execution_count": null,
      "outputs": [
        {
          "output_type": "stream",
          "name": "stdout",
          "text": [
            "Enter upto which multiplication table: 3\n",
            "1  x  1  =  1     2  x  1  =  2     3  x  1  =  3     4  x  1  =  4     5  x  1  =  5     6  x  1  =  6     7  x  1  =  7     8  x  1  =  8     9  x  1  =  9     10  x  1  =  10\n",
            "1  x  2  =  2     2  x  2  =  4     3  x  2  =  6     4  x  2  =  8     5  x  2  =  10     6  x  2  =  12     7  x  2  =  14     8  x  2  =  16     9  x  2  =  18     10  x  2  =  20\n",
            "1  x  3  =  3     2  x  3  =  6     3  x  3  =  9     4  x  3  =  12     5  x  3  =  15     6  x  3  =  18     7  x  3  =  21     8  x  3  =  24     9  x  3  =  27     10  x  3  =  30\n"
          ]
        }
      ]
    },
    {
      "cell_type": "code",
      "source": [
        "#7. Program to display the n terms of odd natural number and their sum.\n",
        "num1=int(input(\"Enter the maximum odd number to be printed: \"))\n",
        "print(\"The odd numbers are: \")\n",
        "for d in range(1,num1+1):\n",
        "  if(d%2!=0):\n",
        "    print(d,\" \",end=\"\")"
      ],
      "metadata": {
        "colab": {
          "base_uri": "https://localhost:8080/"
        },
        "id": "PGd_OsTNibGm",
        "outputId": "87c10c59-396b-45e8-bfe3-254969353612"
      },
      "execution_count": null,
      "outputs": [
        {
          "output_type": "stream",
          "name": "stdout",
          "text": [
            "Enter the maximum odd number to be printed: 5\n",
            "The odd numbers are: \n",
            "1  3  5  "
          ]
        }
      ]
    }
  ]
}